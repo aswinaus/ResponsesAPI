{
  "nbformat": 4,
  "nbformat_minor": 0,
  "metadata": {
    "colab": {
      "provenance": [],
      "authorship_tag": "ABX9TyMbb+o40QL1YHEFx6zXwJqI",
      "include_colab_link": true
    },
    "kernelspec": {
      "name": "python3",
      "display_name": "Python 3"
    },
    "language_info": {
      "name": "python"
    }
  },
  "cells": [
    {
      "cell_type": "markdown",
      "metadata": {
        "id": "view-in-github",
        "colab_type": "text"
      },
      "source": [
        "<a href=\"https://colab.research.google.com/github/aswinaus/ResponsesAPI/blob/main/Responses_API_Web_Search.ipynb\" target=\"_parent\"><img src=\"https://colab.research.google.com/assets/colab-badge.svg\" alt=\"Open In Colab\"/></a>"
      ]
    },
    {
      "cell_type": "code",
      "execution_count": null,
      "metadata": {
        "id": "BTzLhkWbP9ve"
      },
      "outputs": [],
      "source": [
        "!pip install --upgrade openai"
      ]
    },
    {
      "cell_type": "code",
      "source": [
        "import os\n",
        "from google.colab import userdata\n",
        "from openai import OpenAI\n",
        "import json"
      ],
      "metadata": {
        "id": "LVuiPKexQRJJ"
      },
      "execution_count": null,
      "outputs": []
    },
    {
      "cell_type": "code",
      "source": [
        "import os\n",
        "from google.colab import userdata\n",
        "from openai import OpenAI\n",
        "import json\n",
        "\n",
        "# 1. Load the API key from Colab secrets and initialize the client\n",
        "client = OpenAI(api_key=userdata.get('OPENAI_API_KEY'))\n",
        "\n",
        "# 2. Define the agent's behavior and tools\n",
        "def research_agent(query):\n",
        "    # Call the Responses API with the web_search_preview tool\n",
        "    response = client.responses.create(\n",
        "        model=\"gpt-5\", # Use the correct model name\n",
        "        tools=[{\"type\": \"web_search_preview\"}],\n",
        "        input=query,\n",
        "    )\n",
        "\n",
        "    # 3. Use model_dump() to convert the Reasoning object to a dictionary\n",
        "    print(\"--- Agent Thinking Process ---\")\n",
        "    print(json.dumps(response.reasoning.model_dump(), indent=2))\n",
        "    print(\"\\n--- Final Output ---\")\n",
        "\n",
        "    # Get the final text output from the response\n",
        "    return response.output_text\n",
        "\n",
        "# 4. Use the agent to answer a question\n",
        "query = \"What is Form990 EZ and when should an organiaztion complete Form990 EZ form? And how is it different from Schedule H? Can you show the results in side by side comparison table with headers and also link to the document\"\n",
        "output = research_agent(query)\n",
        "print(output)"
      ],
      "metadata": {
        "id": "N9ZOmkPZQIzu"
      },
      "execution_count": null,
      "outputs": []
    }
  ]
}