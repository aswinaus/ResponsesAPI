{
  "nbformat": 4,
  "nbformat_minor": 0,
  "metadata": {
    "colab": {
      "provenance": [],
      "authorship_tag": "ABX9TyMbb+o40QL1YHEFx6zXwJqI",
      "include_colab_link": true
    },
    "kernelspec": {
      "name": "python3",
      "display_name": "Python 3"
    },
    "language_info": {
      "name": "python"
    }
  },
  "cells": [
    {
      "cell_type": "markdown",
      "metadata": {
        "id": "view-in-github",
        "colab_type": "text"
      },
      "source": [
        "<a href=\"https://colab.research.google.com/github/aswinaus/ResponsesAPI/blob/main/Responses_API_Web_Search.ipynb\" target=\"_parent\"><img src=\"https://colab.research.google.com/assets/colab-badge.svg\" alt=\"Open In Colab\"/></a>"
      ]
    },
    {
      "cell_type": "code",
      "execution_count": null,
      "metadata": {
        "id": "BTzLhkWbP9ve"
      },
      "outputs": [],
      "source": [
        "!pip install --upgrade openai"
      ]
    },
    {
      "cell_type": "code",
      "source": [
        "import os\n",
        "from google.colab import userdata\n",
        "from openai import OpenAI\n",
        "import json"
      ],
      "metadata": {
        "id": "LVuiPKexQRJJ"
      },
      "execution_count": 2,
      "outputs": []
    },
    {
      "cell_type": "code",
      "source": [
        "import os\n",
        "from google.colab import userdata\n",
        "from openai import OpenAI\n",
        "import json\n",
        "\n",
        "# 1. Load the API key from Colab secrets and initialize the client\n",
        "client = OpenAI(api_key=userdata.get('OPENAI_API_KEY'))\n",
        "\n",
        "# 2. Define the agent's behavior and tools\n",
        "def research_agent(query):\n",
        "    # Call the Responses API with the web_search_preview tool\n",
        "    response = client.responses.create(\n",
        "        model=\"gpt-5\", # Use the correct model name\n",
        "        tools=[{\"type\": \"web_search_preview\"}],\n",
        "        input=query,\n",
        "    )\n",
        "\n",
        "    # 3. Use model_dump() to convert the Reasoning object to a dictionary\n",
        "    print(\"--- Agent Thinking Process ---\")\n",
        "    print(json.dumps(response.reasoning.model_dump(), indent=2))\n",
        "    print(\"\\n--- Final Output ---\")\n",
        "\n",
        "    # Get the final text output from the response\n",
        "    return response.output_text\n",
        "\n",
        "# 4. Use the agent to answer a question\n",
        "query = \"What is Form990 EZ and when should an organiaztion complete Form990 EZ form? And how is it different from Schedule H? Can you show the results in side by side comparison table with headers and also link to the document\"\n",
        "output = research_agent(query)\n",
        "print(output)"
      ],
      "metadata": {
        "colab": {
          "base_uri": "https://localhost:8080/"
        },
        "id": "N9ZOmkPZQIzu",
        "outputId": "3318ee32-65e3-4e40-c40a-481a94920a9b"
      },
      "execution_count": 6,
      "outputs": [
        {
          "output_type": "stream",
          "name": "stdout",
          "text": [
            "--- Agent Thinking Process ---\n",
            "{\n",
            "  \"effort\": \"medium\",\n",
            "  \"generate_summary\": null,\n",
            "  \"summary\": null\n",
            "}\n",
            "\n",
            "--- Final Output ---\n",
            "Here’s the quick answer, then a side‑by‑side:\n",
            "\n",
            "- Form 990‑EZ is the IRS’s “short” annual information return for many small tax‑exempt organizations. Generally, you may use it if your gross receipts are under $200,000 and your total assets are under $500,000 at year‑end, and you aren’t in a category that must file Form 990 instead. It is due the 15th day of the 5th month after your tax year ends (May 15 for calendar‑year filers) and must be e‑filed. ([irs.gov](https://www.irs.gov/instructions/i990ez))\n",
            "- Schedule H (Form 990) is not a stand‑alone return. It’s a schedule that hospital organizations must attach to Form 990 to report community benefit, financial assistance policy, billing/collections, CHNA, and 501(r) compliance for their hospital facilities. Organizations that operate a hospital facility must file Form 990 (not 990‑EZ) and include Schedule H. ([irs.gov](https://www.irs.gov/instructions/i990sh))\n",
            "\n",
            "Side‑by‑side comparison\n",
            "\n",
            "| Topic | Form 990‑EZ | Schedule H (Form 990) |\n",
            "|---|---|---|\n",
            "| What it is | Short annual information return for small exempt orgs | Attachment to Form 990 for hospital organizations |\n",
            "| Who files | Most tax‑exempt orgs under IRC §501(a), §527, and certain §4947(a)(1) trusts if they meet size tests and aren’t otherwise required to file Form 990 | Any organization that operated at least one state‑recognized hospital facility during the year and files Form 990 |\n",
            "| Size/eligibility threshold | May file if gross receipts < $200,000 and total assets < $500,000 at year‑end; BUT certain orgs (e.g., those operating a hospital facility, DAF sponsors, §501(c)(29) issuers, certain controlling orgs) must file Form 990 regardless of size | No dollar thresholds; required based on operating a hospital facility; cannot be filed with 990‑EZ |\n",
            "| Due date | 15th day of the 5th month after year‑end; 6‑month extension available via Form 8868 | Same as the organization’s Form 990 filing (it is part of Form 990) |\n",
            "| E‑file requirement | Required to be e‑filed | Filed electronically along with Form 990 |\n",
            "| Key content | Revenues/expenses, balance sheet, program service, officers/compensation, compliance questions; certain schedules (e.g., A, B, G, O) may apply | Community benefit reporting; financial assistance (charity care) policies; bad debt/Medicare and collection practices; facility‑level reporting; joint ventures; 501(r) compliance (FAP, CHNA, billing/charges) |\n",
            "| Can hospitals use it? | No—orgs that operate a hospital facility must file Form 990 and complete Schedule H | Yes—this is the schedule such hospital organizations must attach to Form 990 |\n",
            "| Public disclosure | Yes (most of the return is public; limited donor info exceptions) | Yes, as part of the public Form 990 filing |\n",
            "| Penalties/missed filings | Late‑filing penalties and potential automatic revocation after 3 consecutive years of failure to file | Same as Form 990 (since it’s part of the return) |\n",
            "\n",
            "Official IRS documents and references\n",
            "\n",
            "- Instructions for Form 990‑EZ (2024), including “Who Must File,” e‑file requirement, and due dates. ([irs.gov](https://www.irs.gov/instructions/i990ez))\n",
            "- Annual exempt organization return due date (explains the “15th day of the 5th month” rule and extensions). ([irs.gov](https://www.irs.gov/charities-non-profits/annual-exempt-organization-return-due-date?utm_source=chatgpt.com))\n",
            "- Instructions for Schedule H (Form 990) (2024), including who must file and what’s reported; background on §501(r). ([irs.gov](https://www.irs.gov/instructions/i990sh))\n",
            "\n",
            "If you tell me your organization’s receipts, assets, and activities (and whether you operate any hospital facilities), I can confirm exactly which return/schedule you need.\n"
          ]
        }
      ]
    }
  ]
}